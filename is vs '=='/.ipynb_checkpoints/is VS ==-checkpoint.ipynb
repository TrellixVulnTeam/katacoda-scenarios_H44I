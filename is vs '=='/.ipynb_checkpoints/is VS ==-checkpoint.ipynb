{
 "cells": [
  {
   "cell_type": "markdown",
   "id": "norman-anaheim",
   "metadata": {},
   "source": [
    "# `is` operator vs `==` operator \n",
    "\n",
    "- `is` operator compares the idenity of variable/object\n",
    "- `==` operator compares the equaliy of variable/object\n"
   ]
  },
  {
   "cell_type": "code",
   "execution_count": 1,
   "id": "eleven-morris",
   "metadata": {},
   "outputs": [
    {
     "name": "stdout",
     "output_type": "stream",
     "text": [
      "b == a\n",
      "True\n",
      "b is a\n",
      "True\n"
     ]
    }
   ],
   "source": [
    "a = [1,2,3]\n",
    "b = a\n",
    "\n",
    "print('b == a')\n",
    "print(b == a)\n",
    "print('b is a')\n",
    "print(b is a)"
   ]
  },
  {
   "cell_type": "code",
   "execution_count": 3,
   "id": "standing-metropolitan",
   "metadata": {},
   "outputs": [
    {
     "name": "stdout",
     "output_type": "stream",
     "text": [
      "b == c\n",
      "True\n",
      "b is c\n",
      "False\n"
     ]
    }
   ],
   "source": [
    "c = list(b)\n",
    "\n",
    "print('b == c')\n",
    "print(b == c)\n",
    "print('b is c')\n",
    "print(b is c)"
   ]
  },
  {
   "cell_type": "code",
   "execution_count": null,
   "id": "military-voice",
   "metadata": {},
   "outputs": [],
   "source": []
  }
 ],
 "metadata": {
  "kernelspec": {
   "display_name": "Python 3",
   "language": "python",
   "name": "python3"
  },
  "language_info": {
   "codemirror_mode": {
    "name": "ipython",
    "version": 3
   },
   "file_extension": ".py",
   "mimetype": "text/x-python",
   "name": "python",
   "nbconvert_exporter": "python",
   "pygments_lexer": "ipython3",
   "version": "3.6.9"
  }
 },
 "nbformat": 4,
 "nbformat_minor": 5
}
