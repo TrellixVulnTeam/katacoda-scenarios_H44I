{
 "cells": [
  {
   "cell_type": "markdown",
   "id": "running-lodging",
   "metadata": {},
   "source": [
    "### Make a helper funcation `print_vector` to ease debugging process..."
   ]
  },
  {
   "cell_type": "code",
   "execution_count": 1,
   "id": "processed-nothing",
   "metadata": {},
   "outputs": [
    {
     "name": "stdout",
     "output_type": "stream",
     "text": [
      "My List: <1, 2, 3>\n",
      "None\n",
      "My Tuple: <10, 20, 30>\n",
      "None\n",
      "My Dictionary: <100, 200, 300>\n",
      "None\n"
     ]
    }
   ],
   "source": [
    "def print_vector(x, y, z):\n",
    "    print('<%s, %s, %s>' % (x, y, z))\n",
    "    \n",
    "my_list = [1, 2, 3]\n",
    "my_tuple = (10, 20, 30)\n",
    "my_dict = {'x': 100, 'y': 200, 'z': 300}\n",
    "\n",
    "print('My List: ', end='')\n",
    "print(print_vector(*my_list))\n",
    "\n",
    "print('My Tuple: ', end='')\n",
    "print(print_vector(*my_tuple))\n",
    "\n",
    "print('My Dictionary: ', end='')\n",
    "print(print_vector(**my_dict))\n"
   ]
  },
  {
   "cell_type": "markdown",
   "id": "angry-twenty",
   "metadata": {},
   "source": [
    " ### Argument unpacking makes it so easy to target any number of arguments for manipulation."
   ]
  },
  {
   "cell_type": "code",
   "execution_count": 2,
   "id": "extraordinary-lunch",
   "metadata": {},
   "outputs": [
    {
     "name": "stdout",
     "output_type": "stream",
     "text": [
      "<x, y, z>\n"
     ]
    }
   ],
   "source": [
    "\"\"\"\n",
    "Un-packing Dictionary using single * operator.\n",
    " - Only extracts keys of the dictionary.\n",
    "\"\"\"\n",
    "\n",
    "print_vector(*my_dict)"
   ]
  },
  {
   "cell_type": "code",
   "execution_count": null,
   "id": "owned-garlic",
   "metadata": {},
   "outputs": [],
   "source": []
  }
 ],
 "metadata": {
  "kernelspec": {
   "display_name": "Python 3",
   "language": "python",
   "name": "python3"
  },
  "language_info": {
   "codemirror_mode": {
    "name": "ipython",
    "version": 3
   },
   "file_extension": ".py",
   "mimetype": "text/x-python",
   "name": "python",
   "nbconvert_exporter": "python",
   "pygments_lexer": "ipython3",
   "version": "3.6.9"
  }
 },
 "nbformat": 4,
 "nbformat_minor": 5
}
