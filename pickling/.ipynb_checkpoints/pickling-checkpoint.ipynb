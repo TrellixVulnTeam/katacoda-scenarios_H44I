{
 "cells": [
  {
   "cell_type": "code",
   "execution_count": 1,
   "id": "traditional-toddler",
   "metadata": {},
   "outputs": [],
   "source": [
    "import pickle\n",
    "\n",
    "mylist = [1,2,4,4,5,6,6,7]\n",
    "\n",
    "with open('mylist.pickle', 'wb') as myfile:\n",
    "    pickle.dump(mylist, myfile, pickle.HIGHEST_PROTOCOL)\n",
    "    \n",
    "    "
   ]
  },
  {
   "cell_type": "markdown",
   "id": "early-optics",
   "metadata": {},
   "source": [
    "# How to un-pickle `mylist.pickle`"
   ]
  },
  {
   "cell_type": "code",
   "execution_count": 3,
   "id": "statistical-training",
   "metadata": {},
   "outputs": [
    {
     "name": "stdout",
     "output_type": "stream",
     "text": [
      "Un-pickled List: \n",
      "[1, 2, 4, 4, 5, 6, 6, 7]\n"
     ]
    }
   ],
   "source": [
    "import pickle\n",
    "\n",
    "with open('mylist.pickle', 'rb') as myfile:\n",
    "    my_load_list = pickle.load(myfile)\n",
    "    \n",
    "    print('Un-pickled List: ')\n",
    "    print(my_load_list)"
   ]
  }
 ],
 "metadata": {
  "kernelspec": {
   "display_name": "Python 3",
   "language": "python",
   "name": "python3"
  },
  "language_info": {
   "codemirror_mode": {
    "name": "ipython",
    "version": 3
   },
   "file_extension": ".py",
   "mimetype": "text/x-python",
   "name": "python",
   "nbconvert_exporter": "python",
   "pygments_lexer": "ipython3",
   "version": "3.6.9"
  }
 },
 "nbformat": 4,
 "nbformat_minor": 5
}
