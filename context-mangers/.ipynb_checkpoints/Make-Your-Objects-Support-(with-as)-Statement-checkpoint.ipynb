{
 "cells": [
  {
   "cell_type": "markdown",
   "id": "objective-friend",
   "metadata": {},
   "source": [
    "## Making your objects support `with ... as` statement:\n",
    "\n",
    "### Using class-based implementation\n",
    "\n",
    "1. Your class must define `__enter__` and `__exit__` functions\n",
    "2. `__enter__` must return the entry point object to deal with. "
   ]
  },
  {
   "cell_type": "code",
   "execution_count": 2,
   "id": "wrapped-report",
   "metadata": {},
   "outputs": [],
   "source": [
    "class ManagedFile():\n",
    "    \n",
    "    def __init__(self, filename, mode):\n",
    "        self.filename = filename\n",
    "        self.mode = mode\n",
    "        \n",
    "    def __enter__(self):\n",
    "        self.file = open(self.filename, self.mode)\n",
    "        return self.file\n",
    "    \n",
    "    def __exit__(self, *args, **kwargs):\n",
    "        if self.file:\n",
    "            self.file.close()\n",
    "\n",
    "            \n",
    "with ManagedFile('myfile.pickle', 'wb') as myfile:\n",
    "    myfile.write(b'Hello world...')\n",
    "    "
   ]
  },
  {
   "cell_type": "code",
   "execution_count": 3,
   "id": "suitable-practice",
   "metadata": {},
   "outputs": [
    {
     "name": "stdout",
     "output_type": "stream",
     "text": [
      "b'Hello world...'\n"
     ]
    }
   ],
   "source": [
    "with ManagedFile('myfile.pickle', 'rb') as myfile:\n",
    "    content = myfile.read()\n",
    "    print(content)"
   ]
  },
  {
   "cell_type": "markdown",
   "id": "extended-yahoo",
   "metadata": {},
   "source": [
    "### Using generator functions and `@contextmanager` decorator"
   ]
  },
  {
   "cell_type": "code",
   "execution_count": 5,
   "id": "weird-weapon",
   "metadata": {},
   "outputs": [
    {
     "name": "stdout",
     "output_type": "stream",
     "text": [
      "b'Hello world...'\n"
     ]
    }
   ],
   "source": [
    "from contextlib import contextmanager\n",
    "\n",
    "@contextmanager\n",
    "def manageFile(filename, mode):\n",
    "    try:\n",
    "        myfile = open(filename, mode)\n",
    "        yield myfile\n",
    "    finally:\n",
    "        myfile.close()\n",
    "        \n",
    "with manageFile('myfile.pickle', 'rb') as myfile:\n",
    "    content = myfile.read()\n",
    "    print(content)"
   ]
  },
  {
   "cell_type": "code",
   "execution_count": null,
   "id": "natural-short",
   "metadata": {},
   "outputs": [],
   "source": []
  }
 ],
 "metadata": {
  "kernelspec": {
   "display_name": "Python 3",
   "language": "python",
   "name": "python3"
  },
  "language_info": {
   "codemirror_mode": {
    "name": "ipython",
    "version": 3
   },
   "file_extension": ".py",
   "mimetype": "text/x-python",
   "name": "python",
   "nbconvert_exporter": "python",
   "pygments_lexer": "ipython3",
   "version": "3.6.9"
  }
 },
 "nbformat": 4,
 "nbformat_minor": 5
}
