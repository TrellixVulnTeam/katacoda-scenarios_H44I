{
 "cells": [
  {
   "cell_type": "markdown",
   "id": "critical-canada",
   "metadata": {},
   "source": [
    "**NOTES:-** \n",
    "Using `if .. elif .. else` statements alot could make your code less readable.\n",
    "\n",
    "**Solution**\n",
    "Use dictionaries to simulate (Switch-Case) statements."
   ]
  },
  {
   "cell_type": "code",
   "execution_count": 1,
   "id": "binding-cigarette",
   "metadata": {},
   "outputs": [
    {
     "name": "stdout",
     "output_type": "stream",
     "text": [
      "result1\n",
      "4\n",
      "result2\n",
      "6\n"
     ]
    }
   ],
   "source": [
    "def dispatch_if(operator, n , m):\n",
    "    if operator == 'add':\n",
    "        return n + m\n",
    "    elif operator == 'sub':\n",
    "        return n - m\n",
    "    elif operator == 'mul':\n",
    "        return n * m\n",
    "    elif operator == 'div':\n",
    "        return n / m\n",
    "    \n",
    "def dispatch_dict(operator, n , m):\n",
    "    return {\n",
    "        \"add\": lambda: n + m,\n",
    "        \"sub\": lambda: n - m,\n",
    "        \"mul\": lambda: n * m,\n",
    "        \"div\": lambda: n / m,\n",
    "    }.get(operator, lambda: None)()\n",
    "\n",
    "result1 = dispatch_if('add', 1, 3)\n",
    "result2 = dispatch_dict('mul', 2, 3)\n",
    "\n",
    "print('result1')\n",
    "print(result1)\n",
    "\n",
    "print('result2')\n",
    "print(result2)\n"
   ]
  },
  {
   "cell_type": "code",
   "execution_count": null,
   "id": "divine-keyboard",
   "metadata": {},
   "outputs": [],
   "source": []
  }
 ],
 "metadata": {
  "kernelspec": {
   "display_name": "Python 3",
   "language": "python",
   "name": "python3"
  },
  "language_info": {
   "codemirror_mode": {
    "name": "ipython",
    "version": 3
   },
   "file_extension": ".py",
   "mimetype": "text/x-python",
   "name": "python",
   "nbconvert_exporter": "python",
   "pygments_lexer": "ipython3",
   "version": "3.6.9"
  }
 },
 "nbformat": 4,
 "nbformat_minor": 5
}
